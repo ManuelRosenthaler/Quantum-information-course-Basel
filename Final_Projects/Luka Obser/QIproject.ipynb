{
 "cells": [
  {
   "cell_type": "markdown",
   "metadata": {},
   "source": [
    "introduction\n",
    "locality + determinism = !freewill\n",
    "{quantum intro\n",
    "bell theorem -> !locality}\n",
    "dualists rejoice\n",
    "contextuality"
   ]
  },
  {
   "cell_type": "markdown",
   "metadata": {},
   "source": [
    "### Determinism, locality and why classical physics alleviates us from moral obligations\n",
    "\n",
    "One of the oldest and most natural human beliefs is the idea of causality. It doesn't take a wise greek or whiny german philosopher to come to the simple conclusion that ones environment, together with the actions and decisions they make, lead to a solidly predictable outcome. \n",
    "The belief that the systems described by natural sciences are deterministic is what makes it possible for us to verify and apply scientific laws. One of those laws is the principle of locality which states that causality can only exist between objects that are in each others immediate surroundings. \n",
    "\n",
    "One problem that comes from determinism, and especially from the principle of locality, is that free will isn't compatible with it. Determinism doesn't allow us to consciously make decisions. All choices made by us are a result of our environment, mood, upbringing, etc. \n",
    "If Alice were to steal a cookie of mine it wouldn't be because she's evil. Her circumstances simply didn't lead to her not stealing it. There is no moral value in a decision devoid of free will since Alice is not in control of it. Determinism makes thieves and murderers as evil as the summer sun that burned my skin the last time i fell asleep on my balcony. "
   ]
  },
  {
   "cell_type": "markdown",
   "metadata": {},
   "source": [
    "### A quantum of solace from quantum mechanics\n",
    "\n"
   ]
  },
  {
   "cell_type": "markdown",
   "metadata": {},
   "source": [
    "Hardys paradox"
   ]
  },
  {
   "cell_type": "markdown",
   "metadata": {
    "collapsed": true
   },
   "source": [
    "Non locality"
   ]
  },
  {
   "cell_type": "markdown",
   "metadata": {},
   "source": [
    "contextuality"
   ]
  }
 ],
 "metadata": {
  "kernelspec": {
   "display_name": "Python 3",
   "language": "python",
   "name": "python3"
  },
  "language_info": {
   "codemirror_mode": {
    "name": "ipython",
    "version": 3
   },
   "file_extension": ".py",
   "mimetype": "text/x-python",
   "name": "python",
   "nbconvert_exporter": "python",
   "pygments_lexer": "ipython3",
   "version": "3.7.6"
  }
 },
 "nbformat": 4,
 "nbformat_minor": 4
}
{
 "cells": [
  {
   "cell_type": "markdown",
   "metadata": {},
   "source": [
    "# Why Bell's theorem tells us not to be mean to robots\n",
    "\n",
    "In this notebook I will present how quantum mechanics could be used to argue for free will. I will start off by explaining how classical physics alone can't describe a world with free will (Incompatibilism). Afterwards I will use quantum mechanic's non-locality to argue for a world in which free will is possible.\n",
    "I will conclude with a short example of how this might also be relevant to future development of morally agent AI.\n",
    "\n",
    "The goal of this is to provoke the reader to to think outside the jaded scientific worldview which makes it all too easy to adapt a predeterministic worldview in which there is no free agency."
   ]
  },
  {
   "cell_type": "markdown",
   "metadata": {},
   "source": [
    "### Determinism, locality and why classical physics alleviates us from moral obligations\n",
    "\n",
    "One of the oldest and most natural human beliefs is the idea of causality. It doesn't take a greek philosopher to come to the simple conclusion that ones environment, together with the actions and decisions they make, lead to a solidly predictable outcome. \n",
    "The belief that the systems described by natural sciences are deterministic is what makes it possible for us to verify and apply scientific laws. One of those laws is the principle of locality which states that causality can only exist between objects that are in each others immediate surroundings. This principle is essential to many theories, with Einstein's theory of relativity being the most famous and probably most important one.\n",
    "The principle of locality, together with physical, biological and psychological findings, create a necessarily monistic worldview in which the aforementioned actions and decisions are themselves a predictable outcome of preceding environments.\n",
    "\n",
    "This kind of deterministic monism does not leave space for free will. Locality doesn't allow the mind to influence the physical world in independent ways. This means that all choices made by us are a result of our environment, mood, upbringing, etc.\n",
    "\n",
    "For example: If Alice were to steal a cookie of mine it wouldn't be because she's evil. Her circumstances simply didn't lead to her not stealing it. There is no moral value in a decision devoid of free will. So Alice could not be held responsible for her actions since she has no way to impact them and ultimately no control over them. Determinism makes thieves and murderers as evil as the tides washing away a sandcastle. "
   ]
  },
  {
   "cell_type": "markdown",
   "metadata": {},
   "source": [
    "### A quantum of solace from quantum mechanics\n",
    " \n",
    "Enter quantum theory. Like a deus ex machina we can use quantum physics to defuse the argument above and at least protect free will against the cold calculating grasp of classical physics. Much to Einstein's dismay, quantum theory can not be combined with the aforementioned worldview. Bell's theorem and the implications of it are in short that quantum mechanics are incompatible with local hidden variable theories. An example of an experiment proving Bell's theorem can be found at the end of this notebook. \n",
    "\n",
    "The consequence of this is that quantum mechanics are either non-deterministic or non-local which offers three possible descriptions of the world:\n",
    "* deterministic and non-local\n",
    "* non-deterministic and local\n",
    "* non-deterministic and non-local\n",
    "\n",
    "Determinism alone isn't what takes away free will since the randomness from indeterminism is equally robbing of agency as a predetermined fate. What free will would mean in either is that we as individuals have the opportunity to change a parameter of our environment at will to impact how the world will evolve from that moment on. Similarly we can't blame locality alone for the lack of free will since non-locality is at best an opportunity to discuss the mind-body problem in a new light. The mind-body problem is an issue from the dualistic worldview Descartes coined. The question it describes is how our soul, understood as something that has no matter, can impact our physical bodies. Non-locality could be used to argue that our soul and body are equally bound to time and space but that the space our soul is in isn't relevant to how it can affect our body. This would bring the search of a link between soul and body to an end as there would be no need for such a bridge.\n",
    "\n",
    "What makes quantum mechanics so appealing to the idea of free will is the idea that it doesn't allow its denial. Let's take a look at an example:"
   ]
  },
  {
   "cell_type": "markdown",
   "metadata": {},
   "source": [
    "### Why my current phone is not evil but the oppressive robot overlords of our near future are\n",
    "\n",
    "A simple way to understand when something can be considered lacking free will would be the following thought experiment:\n",
    "\n",
    "Let's consider a machine that offers passersby cookies. The machine runs on an algorithm that makes sure only every 3rd person walking by gets offered one and the counter resets after the cookie is accepted. From this perspective the machine lacks free will because we know exactly how it works and can with certainty say whether or not the next person will be offered a cookie.\n",
    "\n",
    "It's different for someone that does not have that knowledge about the machine. Let's assume Alice and Bob are out for a stroll and walk past that machine. Let's also make sure that Alice and Bob can't make any assumptions about the machine by making it a robot that looks like a baker offering samples. Alice is lucky and happens to be the third person to walk by the robot and it hands her a cookie. Bob, right behind her and a little peckish, would also like one. The robot however isn't programmed to give him one. Bob hangrily considers the robot to be mean to him thus attributing it moral agency and free will. And who could blame him? Bob does not know that the robot would have given him a cookie if he walked by it 2 more times. For Bob the robot is not a simple machine doing what it's told by its algorithm but a person with free will. A simple way to console him would be to tell him about the robot and its algorithm. He would understand, drop his opinion and walk by it two more times to cheat himself a cookie.\n",
    "\n",
    "This means that if we know everything about an environment we could consider it lacking of free will. But since we can't possibly know everything if there are non-deterministic aspects we can not deny free will. \n",
    "\n",
    "While this doesn't show that free will exists, it intuitively argues that a lack of it can not be shown for systems based on quantum mechanics. The most important consequence of this is that discrimination of robots and AI based on the argument that \"they're just machines\" is unjustified since if advanced enough they might have a similar type of autonomy as us."
   ]
  },
  {
   "cell_type": "markdown",
   "metadata": {},
   "source": [
    "### A simple Bell test\n",
    "\n",
    "To show that Bell's theorem was right we will now perform a little experiment on an IBM quantum computer. If you wish to rerun it make sure the environment has your [IBM Quantum Experience credentials](https://quantum-computing.ibm.com/). \n",
    "\n",
    "Let's consider a system with two qubits in the Bell state $\\Phi^+$. Let's call them $A$ and $B$. When measured these will either return $0$ or $1$ but we have the choice of how we want to measure them which we will abuse to prove our point.\n",
    "\n",
    "We can use $E(A,B) := P(0,0) - P(0,1) - P(1,0) + P(1,1)$ to express how similar the results for $A$ and $B$ are on a scale from $-1$ to $1$ (since $\\sum{P} = 1$) when measured with $Z$ and $X$ for $A$ and $W = \\frac{1}{\\sqrt{2}}(Z + X) $ and $V = \\frac{1}{\\sqrt{2}}(Z - X)$ for $B$ ([Source](https://quantum-computing.ibm.com/docs/guide/mult-entang/entanglement-and-bell-tests)). $P(0,0)$ and $P(1,1)$ are the probabilities that $A$ and $B$ are the same when measured and $P(0,1)$ and $P(1,0)$ the probabilites of them being different.\n",
    "\n",
    "This means that $E(A,B)$ will be $1$ if $A$ and $B$ always have the same value when measured and $-1$ if they always have different values.\n",
    "\n",
    "For our system we have 4 such variables: $E(A_z,B_w)$, $E(A_z,B_v)$, $E(A_x,B_w)$ and $E(A_x,B_v)$\n",
    "\n",
    "Next we will formulate a CHSH inequality which will hold under a local hidden-variable theory\n",
    "\n",
    "$\\lvert S \\rvert \\leq 2$\n",
    "\n",
    "with $S := E(A_z,B_w) + E(A_z,B_v) + E(A_x,B_w) - E(A_x,B_v)$\n",
    "\n",
    "Let's take a second to see how large $S$ can get. \n",
    "\n",
    "Ideally we'd have $E(A_z,B_w) = E(A_z,B_v) = E(A_x,B_w) = 1$ and $E(A_x,B_v) = -1$ so that $S$ would add up to 4. But since the summands aren't independent we can only hope to get to $2$ because:\n",
    "\n",
    "If $E(A_z,B_w)$ and $E(A_z,B_v)$ are both $1$ ($A_z = B_w, A_z = B_v$) it is intuitive that $E(A_x,B_w)$ and $-E(A_x,B_v)$ must add up to $0$ since they're either both $1$ (if $A_x = A_z$) or both $-1$ (if $A_x \\neq A_z$).\n",
    "\n",
    "If $E(A_z,B_w)$ and $E(A_x,B_w)$ are both $1$ ($A_z = B_w, A_x = B_w \\to A_z = A_x$), $E(A_z, B_v) - E(A_x, B_v)$ must be $0$ since either both are $1$ ($A_z = A_x = B_v$) or both are $-1$ ($A_z \\neq A_x \\neq B_v$).\n",
    "\n",
    "Calculations for $E(A_z,B_v) = E(A_x,B_w) = 1$ and for negative $S$ are analogue.\n",
    "\n",
    "Which leaves us with $\\lvert S \\rvert \\leq 2$\n",
    "\n",
    "Now let's build ourselves some circuits to measure the different $E$s on a real quantum device."
   ]
  },
  {
   "cell_type": "code",
   "execution_count": 1,
   "metadata": {},
   "outputs": [
    {
     "data": {
      "image/png": "[encoded data removed]",
      "text/plain": [
       "<Figure size 659.792x204.68 with 1 Axes>"
      ]
     },
     "execution_count": 1,
     "metadata": {},
     "output_type": "execute_result"
    }
   ],
   "source": [
    "from qiskit import *\n",
    "from qiskit.tools.visualization import plot_histogram\n",
    "from qiskit.tools.monitor import job_monitor\n",
    "from qiskit.providers.ibmq import *\n",
    "\n",
    "#for E(A_z, B_w)\n",
    "circuitzw = QuantumCircuit(2, 2)\n",
    "\n",
    "#these first operations entangle our qubits in a state that will likely violate the chsh inequality\n",
    "circuitzw.h(0)\n",
    "circuitzw.cx(0, 1)\n",
    "\n",
    "#here we take z and w measurements\n",
    "circuitzw.measure(0, 0)\n",
    "circuitzw.s(1)\n",
    "circuitzw.h(1)\n",
    "circuitzw.t(1)\n",
    "circuitzw.h(1)\n",
    "circuitzw.measure(1, 1)\n",
    "circuitzw.draw(output=\"mpl\")"
   ]
  },
  {
   "cell_type": "code",
   "execution_count": 2,
   "metadata": {},
   "outputs": [
    {
     "data": {
      "image/png": "[encoded data removed]",
      "text/plain": [
       "<Figure size 659.792x204.68 with 1 Axes>"
      ]
     },
     "execution_count": 2,
     "metadata": {},
     "output_type": "execute_result"
    }
   ],
   "source": [
    "#for E(A_z, B_v)\n",
    "circuitzv = QuantumCircuit(2, 2)\n",
    "\n",
    "circuitzv.h(0)\n",
    "circuitzv.cx(0, 1)\n",
    "\n",
    "#here we take z and v measurements\n",
    "circuitzv.measure(0, 0)\n",
    "circuitzv.s(1)\n",
    "circuitzv.h(1)\n",
    "circuitzv.tdg(1)\n",
    "circuitzv.h(1)\n",
    "circuitzv.measure(1, 1)\n",
    "circuitzv.draw(output=\"mpl\")"
   ]
  },
  {
   "cell_type": "code",
   "execution_count": 3,
   "metadata": {},
   "outputs": [
    {
     "data": {
      "image/png": "[encoded data removed]",
      "text/plain": [
       "<Figure size 659.792x204.68 with 1 Axes>"
      ]
     },
     "execution_count": 3,
     "metadata": {},
     "output_type": "execute_result"
    }
   ],
   "source": [
    "#for E(A_x, B_w)\n",
    "circuitxw = QuantumCircuit(2, 2)\n",
    "\n",
    "circuitxw.h(0)\n",
    "circuitxw.cx(0, 1)\n",
    "\n",
    "#here we take x and w measurements\n",
    "circuitxw.h(0)\n",
    "circuitxw.measure(0, 0)\n",
    "circuitxw.s(1)\n",
    "circuitxw.h(1)\n",
    "circuitxw.t(1)\n",
    "circuitxw.h(1)\n",
    "circuitxw.measure(1, 1)\n",
    "circuitxw.draw(output=\"mpl\")"
   ]
  },
  {
   "cell_type": "code",
   "execution_count": 4,
   "metadata": {},
   "outputs": [
    {
     "data": {
      "image/png": "[encoded data removed]",
      "text/plain": [
       "<Figure size 659.792x204.68 with 1 Axes>"
      ]
     },
     "execution_count": 4,
     "metadata": {},
     "output_type": "execute_result"
    }
   ],
   "source": [
    "#for E(A_x, B_v)\n",
    "circuitxv = QuantumCircuit(2, 2)\n",
    "\n",
    "circuitxv.h(0)\n",
    "circuitxv.cx(0, 1)\n",
    "\n",
    "#here we take x and v measurements\n",
    "circuitxv.h(0)\n",
    "circuitxv.measure(0, 0)\n",
    "circuitxv.s(1)\n",
    "circuitxv.h(1)\n",
    "circuitxv.tdg(1)\n",
    "circuitxv.h(1)\n",
    "circuitxv.measure(1, 1)\n",
    "circuitxv.draw(output=\"mpl\")"
   ]
  },
  {
   "cell_type": "markdown",
   "metadata": {},
   "source": [
    "This is the quantum circuit that will entangle and measure our qubits. Now for the fun part: running it on an actual quantum computer. This might take a while since there are not many such machines available and we're not the only ones experimenting with them. To figure out the probabilities we will run the circuits 8192 each."
   ]
  },
  {
   "cell_type": "code",
   "execution_count": 8,
   "metadata": {},
   "outputs": [
    {
     "name": "stderr",
     "output_type": "stream",
     "text": [
      "ibmqfactory.load_account:WARNING:2020-06-03 15:43:44,788: Credentials are already in use. The existing account in the session will be replaced.\n"
     ]
    },
    {
     "name": "stdout",
     "output_type": "stream",
     "text": [
      "least busy non simulator backend:  ibmq_london\n",
      "Job Status: job has successfully run\n",
      "Probabilities for ZW : {'01': 0.09619140625, '10': 0.09716796875, '00': 0.4241943359375, '11': 0.3824462890625}\n",
      "Probabilities for ZV : {'01': 0.09033203125, '10': 0.1136474609375, '00': 0.394287109375, '11': 0.4017333984375}\n",
      "Probabilities for XW : {'01': 0.0767822265625, '10': 0.114501953125, '00': 0.4495849609375, '11': 0.359130859375}\n",
      "Probabilities for XV : {'01': 0.372802734375, '10': 0.4425048828125, '00': 0.1195068359375, '11': 0.065185546875}\n",
      "E values: {'ZW': 0.61328125, 'ZV': 0.592041015625, 'XW': 0.617431640625, 'XV': -0.630615234375}\n",
      "S =  2.453369140625\n"
     ]
    }
   ],
   "source": [
    "provider = IBMQ.load_account()\n",
    "backend = least_busy(provider.backends(filters=lambda x: x.configuration().n_qubits >= 2 and not x.configuration().simulator and x.status().operational==True))\n",
    "print(\"least busy non simulator backend: \", backend)\n",
    "shots = 8192\n",
    "\n",
    "circuits = [circuitzw, circuitzv, circuitxw, circuitxv]\n",
    "# might take a while until we get a run that violates the cshs inequality\n",
    "job = execute(circuits, backend=backend, shots=shots)\n",
    "job_monitor(job, interval = 2)\n",
    "results = job.result()\n",
    "es = {}\n",
    "circuitnames = ['ZW', 'ZV', 'XW', 'XV']\n",
    "circuititer = iter(circuitnames)\n",
    "for circuit in circuits:\n",
    "    circuitname = next(circuititer)\n",
    "    answer = results.get_counts(circuit)\n",
    "    ps = {}\n",
    "    #calculate P(0,0), P(1,0), P(0,1), P(1,1)\n",
    "    for i, hits in answer.items():\n",
    "        ps[i] = hits/shots\n",
    "    print('Probabilities for', circuitname, ':', ps)\n",
    "    #calculate E(A,B)\n",
    "    es[circuitname] = ps['00'] - ps['01'] - ps['10'] + ps['11']    \n",
    "print('E values:', es)\n",
    "s = es['ZW'] + es['ZV'] + es['XW'] - es['XV']\n",
    "print('S = ', s)\n"
   ]
  },
  {
   "cell_type": "markdown",
   "metadata": {},
   "source": [
    "We can see that our CHSH inequality has been violated which means that the calculations above were wrong and we either made a mathematical mistake, which is not the case I hope (please point them out if you find any), or our assumption of local hidden variables was wrong."
   ]
  },
  {
   "cell_type": "code",
   "execution_count": null,
   "metadata": {},
   "outputs": [],
   "source": []
  }
 ],
 "metadata": {
  "kernelspec": {
   "display_name": "Python 3",
   "language": "python",
   "name": "python3"
  },
  "language_info": {
   "codemirror_mode": {
    "name": "ipython",
    "version": 3
   },
   "file_extension": ".py",
   "mimetype": "text/x-python",
   "name": "python",
   "nbconvert_exporter": "python",
   "pygments_lexer": "ipython3",
   "version": "3.7.6"
  }
 },
 "nbformat": 4,
 "nbformat_minor": 4
}

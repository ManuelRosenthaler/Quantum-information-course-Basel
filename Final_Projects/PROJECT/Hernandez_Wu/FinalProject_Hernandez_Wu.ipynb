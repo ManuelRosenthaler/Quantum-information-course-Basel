{
 "cells": [
  {
   "cell_type": "markdown",
   "metadata": {},
   "source": [
    "# On the fundamental differences between quantum states - an overview. \n",
    "\n",
    "### University of Basel. Department of Physics\n",
    "#### Quantum Information. Frühjahrssemester 2020\n",
    "\n",
    "**Professor**: James Wootton.  \n",
    "  \n",
    "Bowei Wu - bowei.wu@stud.unibas.ch  (Responsible for the first part)  \n",
    "José A. Hernández - ja.hernandezsanchez@stud.unibas.ch  (Responsible for the second part)  \n",
    "  \n",
    "**NOTE:** Both authors contributed with their respective parts. A consensus was reached in order to paint a concise picture and thus the presented work is a collaborative effort."
   ]
  },
  {
   "cell_type": "markdown",
   "metadata": {},
   "source": [
    "## First part - an introduction: \n",
    "\n",
    "## What even is a \"quantum state\"?\n",
    "\n",
    "Historically, the study of various microscopic phenomena have shown that our classical (and thus discreet) approach to the description and understanding of our reality is, at the microscopic level, inaccurate and missing \"the bigger picture\" at best and catastrophically off at worst.  \n",
    "\n",
    "A concise example is the so-called \"photoelectric effect\", that reveals that nature is not continuous. The unit part of the energy in a beam of light with frequency $v$, is $\\epsilon=hv$. This is abnormal in classical physical. But when the scale become smaller and smaller, the physical phenomenon  become quantized. For a quantum system, the energy and the state are not arbitrary but discrete. For example, the particle in 1D box has eigenstates\n",
    "\n",
    "$$\\psi_n(x)=\\sqrt\\frac{2}{L}sin\\left(\\frac{n\\pi x}{L}\\right)$$\n",
    "\n",
    "The state of the particle can be\n",
    "\n",
    "$$|\\psi\\rangle=\\sum c_n|\\psi_n\\rangle$$\n",
    "\n",
    "Namely, the state of the particle can be different eigenstate at the same time. This is called superposition, which is a unique property given by quantum mechanics. If we do a measurement on the particle, we will find the particle is on one of the eigenstates. The case that the particle is at state $|\\psi_n\\rangle$ is of a probability $|c_n|^2$. So the coefficient should satisfy\n",
    "\n",
    "$$\\sum |c_n|^2=1$$\n",
    "\n",
    "\n",
    "## The Qubit and Two-state quantum system\n",
    "\n",
    "Qubit is the basic unit in quantum computing. The name of 'qubit' comes from 'bit', which is the basic unit in classical computing. In classical computer, a bit can be either 0 or 1. Here 0 and 1 can correspond to the off and on of a switch, or low and high voltage in real physics. Then we can use multiple bits (bit string) to encode information. In quantum computer, we also use 0 and 1 corresponding to the classical binary bit. However, the qubit can be both 0 and 1 at same time. If we write the qubit down, it can be expressed as\n",
    "\n",
    "$$ |\\psi\\rangle=\\alpha|0\\rangle+\\beta|1\\rangle $$\n",
    "\n",
    "Here $|0\\rangle$ and $|1\\rangle$ are 2 eigenstates, which are orthogonal to each other. For example, we can define a perpendicularly polarized photon as $|0\\rangle$ and a horizontally polarized photon as $|1\\rangle$. Or, a spin-up electron as $|0\\rangle$ and a spin-down electron as $|1\\rangle$.\n",
    "\n",
    "The value of $\\alpha$ and $\\beta$ are complex numbers. And they need to implement $|\\alpha|^2+|\\beta|^2=1$, because $|\\alpha|^2$ and $|\\beta|^2$ are the probabilities of the result being $|0\\rangle$ and $|1\\rangle$. After the measurement the state will collapse to either $|0\\rangle$ or $|1\\rangle$, which means that the uncertainty disappear and the state would no longer change.\n",
    "\n",
    "If we have multiple qubits, we can use tenser products to express the multi-qubit state. For example, 2-qubits state which contains qubit A and B can be expressed as\n",
    "\n",
    "$$|\\psi\\rangle_{AB}=|\\psi\\rangle_A\\otimes\\psi\\rangle_B=c_{00}|00\\rangle+c_{01}|01\\rangle+c_{10}|10\\rangle+c_{11}|11\\rangle$$\n",
    "\n",
    "What mentioned above are just abstract expressions. To put it into practice, we need to prepare some real qubits. Since the qubit has 2 eigenstates, it is just a two-state quantum system.\n",
    "\n",
    "### Experimental approach towards Two-state quantum system\n",
    "\n",
    "The basic requirement of the two-state quantum system is that there are 2 stable enough states in the energy level where the physics process of our interest happens. That is to say, the half-life period of the two states should be far longer than their running time. The system even can have more than 2 states, as long as the other states have almost no influence on the two states during the physics process we are interested in.\n",
    "\n",
    "A possible method to build a two-state system is by Nuclear Magnetic Resonance (NMR). The qubits are the nucleus with spin $1\\over2$ (like $^1H$, $^13C$, $^19F$, $^{15}N$, etc.). Define the spin-up nucleus as $|0\\rangle$ and spin-down nucleus as $|1\\rangle$. The qubits can be controlled by alternating magnetic field, since the spin will precess under external magnetic field.\n",
    "\n",
    "To build two-state systems, there are also some other methods like quantum dots (define spin-down dot as $|0\\rangle$ and spin-up dot as $|1\\rangle$), optical method (mentioned above), superconducting Josephson junction, etc.\n",
    "\n",
    "\n",
    "## Quantum Gates\n",
    "\n",
    "Mathematically, if we call the operation on qubits is $U$, and the state of qubits are written down as a vector, $U$ must be a unitary matrix. That is to say, $UU^+=I$. Let us use the two-state NMR system as example to see how the mathematical unitary transform, i.e. the quantum logic gate, is realized on a real physics system. \n",
    "\n",
    "The gate we want to realzie is called $U(\\theta,\\phi)$.\n",
    "\n",
    "$$U(\\theta,\\phi)= \\begin{pmatrix} cos\\theta & -isin\\theta e^{i\\phi} \\\\ -isin\\theta e^{-i\\phi} & cos\\theta \\end{pmatrix}\n",
    "$$\n",
    "\n",
    "To implement this, we need to create a magnetic field in X-Y plane existing in time interval $\\tau$, which will let the spin precess in the orientation of the direction of magnetic field. If the magnetic field is $\\textbf{B}=|\\textbf{B}|(cos\\phi, sin\\phi, 0)$, the frequency of Larmor precession will be $\\omega_L={2\\over\\hbar}|\\mu||\\textbf{B}|$. So the rotated angle is $\\omega_L \\tau$ and $\\theta={\\omega_L \\tau\\over2}$. Now we succeed to bulid the unitary transform $U(\\theta,\\phi)$. We can see that if we apply this on state $|0\\rangle$, we get $cos\\theta|0\\rangle -ie^{i\\phi}sin\\theta|1\\rangle$.\n",
    "\n",
    "On different real quantum systems we will have different approaches to realize different quantum gates.\n",
    "\n",
    "\n",
    "## Entanglement\n",
    "\n",
    "Entanglement is a non-local property between sub-systems in a quantum system. If a state of several quantum states can't be expressed as the tenser product of each qubit, such state is called entangled state. For example, the state ${1\\over\\sqrt2}(|00\\rangle+|10\\rangle)$ can be expressed as ${1\\over\\sqrt2}(|0\\rangle+|1\\rangle)\\otimes|0\\rangle$. In contrast, the state ${1\\over\\sqrt2}(|00\\rangle+|11\\rangle)$ cannot be expressed as the tensor product of two qubits, which means this is an entangled state. Since entanglement is non-local, the state of one qubit will have influence on the state of other qubits which are entangled with it.\n",
    "\n",
    "The property of entanglement gives the quantum computing ability of parallel processing. For instance, given decimal number 10 and 5, we express them as $|1010\\rangle)$ and $|0101\\rangle)$. Then create a entangled state of them,  $|1010\\rangle)+|0101\\rangle)$. For this state, if we apply some quantum algorithm, the number 10 and 5 can be computed separately. This is one of the reasons why quantum computer sometimes is faster than classical computer.\n",
    "\n",
    "However, the property of entanglement means that the quantum system can be entangled with not only the target but also the environment. Once it is entangled with the environment, the quantum coherence will decay with time, which is called quantum decoherence.\n",
    "\n"
   ]
  },
  {
   "cell_type": "markdown",
   "metadata": {},
   "source": [
    "## Second part - on the \"most\" and \"least\" quantum states:\n",
    "\n",
    "## The many-body quantum system\n",
    "\n",
    "All of these aforementioned characteristics and descriptions of quantum systems lay a solid foundation for even deeper questions to be posed; mainly concerning how we can exploit the seemingly erratic and unknowable features of the quantum world for our benefit.  \n",
    "A question one might ask is how we could in principle use qubits to convey information to others just as some scribbles on paper do in our daily lives; and so, the quest for communication using many of these qubits begins.  \n",
    "\n",
    "Consider then a system composed of $N$ identically prepared subsystems such that the Hilbert space where the complete system \"lives\" may be written in terms of the subsystem's Hilbert subspaces; namely:\n",
    "\n",
    "$$\\mathcal{H}_{C}=\\mathcal{H}_{S}^{\\otimes N}$$  \n",
    "\n",
    "Additionally, the Hamiltonian with which this complete system will evolve in time can be written in terms of the Hamiltonians describing the evolution of the subsystems, so:\n",
    "\n",
    "$$H=\\sum_{i=1}^{N}\\mathbb{1}^{1}\\otimes\\ldots\\otimes h^{i} \\otimes\\ldots\\otimes\\mathbb{1}^{N}$$  \n",
    "\n",
    "And the ith subsystem's Hamiltonian $h^{i}$ in turn may be written in some appropriate basis as:\n",
    "\n",
    "$$h^{i}=\\begin{pmatrix}\\lambda_{min} & & \\\\ & \\ddots & \\\\ & &\\lambda_{max}=\\lambda_{min}+\\Delta  \\end{pmatrix}$$\n",
    "\n",
    "Assuming of course that there exists a finite spectral range and that the eigenvalues of said \"sub Hamiltonian\" are bounded and sorted from a minimum to a maximum. Now, from this, and by virtue of $h^{i}=h^{i\\dagger}$. We can propose the decomposition of $h^{i}=g^{i}+\\frac{\\lambda_{min}+\\lambda_{max}}{2}\\mathbb{1}$, where:\n",
    "\n",
    "$$g^{i}=\\begin{pmatrix}-\\Delta/2 & & \\\\ & \\ddots & \\\\ & &\\Delta/2\\end{pmatrix}$$  \n",
    "\n",
    "Now, if we consider the case where the encoding of such qubits is done in a unitary (and thus reversible) fashion, then we can write the unitary operator that describes the evolution of the whole system in terms of the unitaries which describe the evolution of the individual subsystems:\n",
    "\n",
    "$$U_{C}(t)=e^{-itH}=\\bigotimes_{i=1}^{N}U_{S}^{i}(t)\\longleftrightarrow U_{S}^{i}(t)=e^{-ith^{i}}$$\n",
    "\n",
    "From this consideration and from the fact that the identity matrix $\\mathbb{1}$ and $g^{i}$ commute, then the individual subsystem unitary may be rewritten as:\n",
    "\n",
    "$$U_{S}(t)=e^{-it\\frac{\\lambda_{min}+\\lambda_{max}}{2}}e^{-itg^{i}}$$\n",
    "\n",
    "Where in the end, the scalar phase factor the subsystems accrue $e^{-it\\frac{\\lambda_{min}+\\lambda_{max}}{2}}$ has no physical relevance. From this, we can assume then that $h^{i}=g^{i}, \\forall i$.  \n",
    "The subsystem Hamiltonian's eigenvalues may be assumed to be within the interval $[-\\Delta/2,\\Delta/2]$ without loss of any generality. Moreover, the eigenstates corresponding to the extremal eigenvalues can be denoted to be:  \n",
    "$$\n",
    "\\begin{align}\n",
    "h^{i}\\left|s_{min}\\right\\rangle=&-\\frac{\\Delta}{2}\\left|s_{min}\\right\\rangle\\\\\n",
    "h^{i}\\left|s_{max}\\right\\rangle=&\\frac{\\Delta}{2}\\left|s_{max}\\right\\rangle\n",
    "\\end{align}\n",
    "$$  \n",
    "\n",
    "## Product states, GHZ states and the Quantum Fisher information measure\n",
    "\n",
    "To begin our discussion of quantum states, we begin with the \"least\" quantum state; the product state. Basically we consider the total state to be a direct product of the individual sub states. So for a fixed interaction time $t=1$ a product state can be written in a general way as follows:\n",
    "\n",
    "$$\\left|\\Psi(t)\\right\\rangle=e^{-iH}\\left|\\Psi(0)\\right\\rangle=e^{-iH}\\bigotimes_{i=1}^{N}\\left|\\psi^{(i)}(0)\\right\\rangle$$  \n",
    "\n",
    "In the case for qubits, the sub states may be written in density matrix form as:\n",
    "\n",
    "$$\\left|\\psi^{(i)}\\right\\rangle\\left\\langle\\psi^{(i)}\\right|=\\left|\\vec{n}\\right\\rangle\\left\\langle\\vec{n}\\right|=\\frac{1}{2}\\left(\\mathbb{1}+\\vec{n}\\cdot\\vec{\\sigma}\\right)$$\n",
    "\n",
    "Where $||\\vec{n}||=1$ and $\\vec{\\sigma}=(\\sigma_{X},\\sigma_{Y},\\sigma_{Z})$.  \n",
    "\n",
    "Resulting in a product state for qubits:\n",
    "\n",
    "$$\\left|\\Psi(t)\\right\\rangle=e^{-iH}\\frac{1}{\\sqrt{N}}\\left(\\left|0\\right\\rangle+e^{i\\varphi}\\left|1\\right\\rangle\\right)^{\\otimes N}$$  \n",
    "\n",
    "On the other hand, the \"most\" quantum state we can prepare can be thought of as \"the maximally entangled\" state; such a state is usually called a GHZ state (as it was first studied for the case of at least three qubits by Greenberger, Horne and Zellinger in 1989). For qubits, this state may be written as follows:\n",
    "\n",
    "$$\\left|GHZ\\right\\rangle=\\frac{1}{\\sqrt{2}}\\left(\\left|0\\right\\rangle^{\\otimes N}+e^{i\\varphi}\\left|1\\right\\rangle^{\\otimes N}\\right)$$  \n",
    "\n",
    "All this talk about states is good and all, but when it comes to actual devices and experiments, is there a way to distinguish between these two states? Meaning, which quantity can we extract from the outcome of an experiment in order to show that the state we're working with is of which kind? The answer comes to us from an information-theoretical quantity called the **Fisher information** and its quantum counterpart the quantum Fisher information (QFI). Many developments have studied this quantity throughout the years, and as such it has many different interpretations and representations; in this work however we focus on one particular definition of it, mathematically it may be written as:\n",
    "\n",
    "$$\\mathcal{F}(|\\Psi(t)\\rangle)=4\\mathrm{Var}_{|\\Psi(0)\\rangle}(H)$$  \n",
    "\n",
    "I.e. four times the variance of a given Hamiltonian under an initial state quantifies the QFI of a given (strictly pure) quantum state. In short: the QFI is a measure for \"how entangled\" a quantum state is. To prove this let us calculate explicitly the QFI for the two types of states stated above, the product state and the GHZ state all with the Hamiltonian also previously stated. First, for the product state:\n",
    "\n",
    "$$\\begin{align*}\n",
    "\\mathcal{F}(|\\Psi(t)\\rangle)=&4\\left(\\left\\langle\\Psi(0)\\right|H^{2}\\left|\\Psi(0)\\right\\rangle-(\\left\\langle\\Psi(0)\\right|H\\left|\\Psi(0)\\right\\rangle)^{2}\\right)\n",
    "\\end{align*}$$\n",
    "\n",
    "Where the first moment about the mean is:\n",
    "\n",
    "$$\\begin{align*}\n",
    "\\left\\langle\\Psi(0)\\right|H\\left|\\Psi(0)\\right\\rangle=&\\sum_{i=1}^{N}\\left\\langle\\Psi(0)\\right|h^{(i)}\\left|\\Psi(0)\\right\\rangle\\\\\n",
    "=&\\sum_{i=1}^{N}\\left\\langle\\psi^{(i)}(0)\\right|h^{(i)}\\left|\\psi^{(i)}(0)\\right\\rangle\\\\\n",
    "=&\\sum_{i=1}^{N}\\left\\langle h^{(i)}\\right\\rangle\n",
    "\\end{align*}$$\n",
    "\n",
    "And the second moment.\n",
    "\n",
    "$$\\begin{align*}\n",
    "\\left\\langle\\Psi(0)\\right|H^{2}\\left|\\Psi(0)\\right\\rangle=&\\sum_{i,j=1}^{N}\\left\\langle\\Psi(0)\\right|h^{(i)}h^{(j)}\\left|\\Psi(0)\\right\\rangle\\\\\n",
    "=&\\sum_{i=j=1}^{N}\\left\\langle \\left(h^{(i)}\\right)^{2}\\right\\rangle+\\sum_{i\\neq j}^{N}\\left\\langle h^{(i)}\\right\\rangle\\left\\langle h^{(j)}\\right\\rangle\n",
    "\\end{align*}$$\n",
    "\n",
    "All in all, the QFI for a product state may be shown to be simply equivalent to the sum of the QFI of the individual sub states w.r.t. their corresponding sub Hamiltonians. I.e.\n",
    "\n",
    "$$\\begin{align*}\n",
    "\\mathcal{F}(\\left|\\Psi(t)\\right\\rangle)=&4\\sum_{i=1}^{N}\\left(\\left\\langle \\left(h^{(i)}\\right)^{2}\\right\\rangle-\\left\\langle h^{(i)}\\right\\rangle^{2}\\right)=4\\mathrm{Var}_{|\\psi^{(i)}(0)}\\left(h^{(i)}\\right)\n",
    "\\end{align*}$$\n",
    "\n",
    "The best QFI attainable from this is then proportional up to a factor of $4$ to the maximum variance of a Hamiltonian about a particular state. For a product state considering the above expressions for the Hamiltonian and sub systems then:\n",
    "\n",
    "$$\\begin{align*}\n",
    "\\mathcal{F}_{\\text{Product}}=&N\\Delta^{2}\n",
    "\\end{align*}$$\n",
    "\n",
    "In contrast to this result, following analogously but now for a GHZ state, it is straightforward to show that:\n",
    "\n",
    "$$\\begin{align*}\n",
    "\\mathcal{F}_{\\text{GHZ}}=&N^{2}\\Delta^{2}\n",
    "\\end{align*}$$\n",
    "\n",
    "Which is indeed $N$ times larger than the QFI for that of a product state! Implying of course that our knowledge of the entanglement of the state scales linearly as the number of subsystems increases.  \n",
    "\n",
    "So, we know that the QFI for different states is different, effectively quantifying \"how entangled\" a state is. The next obvious question to ask after investigating the \"most\" and \"least\" quantum states is, does an \"intermediately\" entangled state exist? And if so, how can we characterize _any_ state by virtue of its \"entanglement depth\"? We address this next."
   ]
  },
  {
   "cell_type": "markdown",
   "metadata": {},
   "source": [
    "## Entanglement depth and a Qiskit proposal\n",
    "Let us now consider an intermediate case between the completely product state and a GHZ \"maximally\" entangled state. Consider then that from the $N$ subsystems we form $K$ groups $G_{1}, G_{2},\\ldots,G_{K}$ with at most $M$ subsystems in each group. By allowing a total state with this assumption to not be completely product but rather product among these different groups, then the total state may be written as:\n",
    "\n",
    "$$\\begin{align*}\n",
    "\\left|\\Psi_{M}\\right\\rangle=&\\bigotimes_{k=1}^{K}\\left|\\psi^{(G_{k})}\\right\\rangle\n",
    "\\end{align*}$$  \n",
    "\n",
    "Computing the QFI corresponding to this state with our usual Hamiltonian, and recalling that for product states (even among groups!) the QFI is additive across subsystems, then:\n",
    "\n",
    "$$\\begin{align*}\n",
    "\\mathcal{F}_{\\left|\\Psi_{M}\\right\\rangle}(H)=&\\sum_{k=1}^{K}\\mathcal{F}_{\\left|\\psi^{(G_{k})}\\right\\rangle}\\left(H\\right)\\leq\\sum_{k=1}^{K}\\left|G_{k}\\right|^{2}\\Delta^{2}\n",
    "\\end{align*}$$  \n",
    "\n",
    "Where of course $\\left|G_{k}\\right|$ is the size of the $k$-th subgroup. One can then make the assertion that this QFI is then maximized for the case where $\\left|G_{k}\\right|=|M|,\\forall k$ by construction of these groups. In this case then, the QFI may be rewritten as:\n",
    "\n",
    "$$\\begin{align*}\n",
    "\\mathcal{F}_{\\left|\\Psi_{M}\\right\\rangle}(H)\\leq&\\Delta^{2}\\left(\\frac{N}{M}\\right)M^{2}=\\Delta^{2}NM\n",
    "\\end{align*}$$  \n",
    "\n",
    "Since $M=N/k$. This yields then the QFI of a system where $M$ particles are entangled (at the most!) from an $N$ particle total system. Pure states are experimentally difficult to prepare, lifting the QFI restriction for pure states can be done by writing the density state for a particular mixed state with \"$M$-bound\" entanglement in the following way:\n",
    "\n",
    "$$\\begin{align*}\n",
    "\\varrho_{M}=&\\sum_{i}^{N}p_{(i)}\\left|\\Psi_{M}^{(i)}\\right\\rangle\\left\\langle\\Psi_{M}^{(i)}\\right|\n",
    "\\end{align*}$$  \n",
    "\n",
    "The QFI may then be written for this more general state as:\n",
    "\n",
    "$$\\begin{align*}\n",
    "\\mathcal{F}_{\\varrho_{M}}(H)\\leq&\\sum_{i}^{N}p_{(i)}\\mathcal{F}_{\\left|\\Psi_{M}^{(i)}\\right\\rangle}(H)\\leq\\Delta^{2}NM\n",
    "\\end{align*}$$  \n",
    "\n",
    "From this we can define the entanglement depth ($\\mathcal{ED}$) of a given general state $\\varrho$ by acknowledging that a witness or a measure for it is indeed the QFI of said state $\\varrho$ for a given Hamiltonian describing the evolution of the system. Thus,\n",
    "\n",
    "$$\\begin{equation*}\n",
    "\\boxed{\n",
    "\\mathcal{ED}(\\varrho)\\geq\\frac{\\mathcal{F}_{\\varrho}(H)}{\\Delta^{2}N}\n",
    "}\n",
    "\\end{equation*}$$\n",
    "\n",
    "Where in particular, if $M=N$, i.e. $N$ subsystems (all of them) are entangled, then we recover the GHZ state previously discussed. Conversely, if $M=1$, meaning that no subsystems are entangled, a product state is recovered. \n"
   ]
  },
  {
   "cell_type": "markdown",
   "metadata": {},
   "source": [
    "In theory the characterization of any state by means of the entanglement of the particles conforming said state is rather straightforward:  \n",
    "1. **FIRST:** Define the Hamiltonian under which the system will evolve (possibility for error induction and characterization goes here)\n",
    "2. **SECOND:** With knowledge of the state with which we are working with, define the spectral range $\\Delta$ of the Hamiltonian by looking at the extremal cases.\n",
    "3. **THIRD:** Compute the QFI for this state under said Hamiltonian. \n",
    "4. **FOURTH:** Comparte the QFI with the spectral range and the number of subsystems in total. \n",
    "\n",
    "After all of this one can say with certainty that:\n",
    "\n",
    "$$\\begin{align*}\n",
    "\\text{If$\\ldots$}& &\\text{$\\ldots$ then.}\\\\\n",
    "\\mathcal{ED(\\varrho)}&>1 &\\text{$\\varrho$ is entangled!}\\\\\n",
    "\\mathcal{ED(\\varrho)}&<1 &\\text{$\\varrho$ is not entangled!}\n",
    "\\end{align*}$$  \n",
    "\n",
    "In Qiskit, this can be put to the test for the extreme cases (product state and the GHZ state). "
   ]
  },
  {
   "cell_type": "code",
   "execution_count": 1,
   "metadata": {},
   "outputs": [],
   "source": [
    "# Initialization\n",
    "from qiskit import *\n",
    "from qiskit.aqua.operators import *\n",
    "import numpy as np"
   ]
  },
  {
   "cell_type": "markdown",
   "metadata": {},
   "source": [
    "Setting the number of Qubits:"
   ]
  },
  {
   "cell_type": "code",
   "execution_count": 2,
   "metadata": {},
   "outputs": [],
   "source": [
    "# Number of qubits and thus, quantum registers\n",
    "\n",
    "N = 8\n",
    "\n",
    "if (N % 2) != 0:\n",
    "    raise ValueError('The number of qubits is uneven!')\n",
    "\n",
    "qr = QuantumRegister(N)\n",
    "#cr = ClassicalRegister(N)"
   ]
  },
  {
   "cell_type": "markdown",
   "metadata": {},
   "source": [
    "A GHZ state may of $N$ qubits may be prepared as follows:"
   ]
  },
  {
   "cell_type": "code",
   "execution_count": 3,
   "metadata": {},
   "outputs": [
    {
     "data": {
      "image/png": "[encoded data removed]",
      "text/plain": [
       "<Figure size 851.228x505.68 with 1 Axes>"
      ]
     },
     "execution_count": 3,
     "metadata": {},
     "output_type": "execute_result"
    }
   ],
   "source": [
    "# GHZ state preparation for N qubits\n",
    "\n",
    "GHZcircuit = QuantumCircuit(qr)\n",
    "GHZcircuit.h(0)\n",
    "for i in range(0,N-1):\n",
    "    GHZcircuit.cx(i,i+1)\n",
    "GHZcircuit.h((qr[N-2],qr[N-1]))\n",
    "GHZcircuit.cx(N-1,N-2)\n",
    "GHZcircuit.h((qr[N-2],qr[N-1]))\n",
    "\n",
    "GHZcircuit.draw(output=\"mpl\")"
   ]
  },
  {
   "cell_type": "markdown",
   "metadata": {},
   "source": [
    "A randomly prepared but nonetheless product state can be prepared by using:"
   ]
  },
  {
   "cell_type": "code",
   "execution_count": 4,
   "metadata": {},
   "outputs": [
    {
     "data": {
      "image/png": "[encoded data removed]",
      "text/plain": [
       "<Figure size 309.428x505.68 with 1 Axes>"
      ]
     },
     "execution_count": 4,
     "metadata": {},
     "output_type": "execute_result"
    }
   ],
   "source": [
    "# Random, N qubit product state preparation\n",
    "\n",
    "Prodcircuit = QuantumCircuit(qr)\n",
    "\n",
    "Prodcircuit.h(qr)\n",
    "for i in range(0,N-1):\n",
    "    if np.random.uniform(0.0,1.0) > 0.5:\n",
    "        Prodcircuit.x(i)\n",
    "        \n",
    "Prodcircuit.draw(output=\"mpl\")"
   ]
  },
  {
   "cell_type": "markdown",
   "metadata": {},
   "source": [
    "For a particular Hamiltonian (which can be user defined) a simple and rather naive algorithm for our eigenvalue sorting scheme can be:"
   ]
  },
  {
   "cell_type": "code",
   "execution_count": 5,
   "metadata": {},
   "outputs": [],
   "source": [
    "# Eigenvalue sorting in the Hamiltonian's diagonal basis\n",
    "def EV_sorting(arr):\n",
    "    for i in range(0,N-1):\n",
    "        for j in range(0,N-1):\n",
    "            if arr[i][j] != 0 and i < N/2:\n",
    "                arr[i][j] = -1*arr[i][j]\n",
    "    return arr"
   ]
  },
  {
   "cell_type": "code",
   "execution_count": 6,
   "metadata": {},
   "outputs": [
    {
     "data": {
      "text/plain": [
       "array([[-0.5,  0. ,  0. ,  0. ,  0. ,  0. ,  0. ,  0. ],\n",
       "       [ 0. , -0.5,  0. ,  0. ,  0. ,  0. ,  0. ,  0. ],\n",
       "       [ 0. ,  0. , -0.5,  0. ,  0. ,  0. ,  0. ,  0. ],\n",
       "       [ 0. ,  0. ,  0. , -0.5,  0. ,  0. ,  0. ,  0. ],\n",
       "       [ 0. ,  0. ,  0. ,  0. ,  0.5,  0. ,  0. ,  0. ],\n",
       "       [ 0. ,  0. ,  0. ,  0. ,  0. ,  0.5,  0. ,  0. ],\n",
       "       [ 0. ,  0. ,  0. ,  0. ,  0. ,  0. ,  0.5,  0. ],\n",
       "       [ 0. ,  0. ,  0. ,  0. ,  0. ,  0. ,  0. ,  0.5]])"
      ]
     },
     "execution_count": 6,
     "metadata": {},
     "output_type": "execute_result"
    }
   ],
   "source": [
    "# Arbitrary local Hamiltonian\n",
    "for i in range(0,N-1):\n",
    "    hl = (1/2)*np.eye(N,N)\n",
    "h = EV_sorting(hl)\n",
    "h"
   ]
  },
  {
   "cell_type": "code",
   "execution_count": 7,
   "metadata": {},
   "outputs": [
    {
     "data": {
      "text/plain": [
       "array([[-4.,  0.,  0.,  0.,  0.,  0.,  0.,  0.],\n",
       "       [ 0., -4.,  0.,  0.,  0.,  0.,  0.,  0.],\n",
       "       [ 0.,  0., -4.,  0.,  0.,  0.,  0.,  0.],\n",
       "       [ 0.,  0.,  0., -4.,  0.,  0.,  0.,  0.],\n",
       "       [ 0.,  0.,  0.,  0.,  4.,  0.,  0.,  0.],\n",
       "       [ 0.,  0.,  0.,  0.,  0.,  4.,  0.,  0.],\n",
       "       [ 0.,  0.,  0.,  0.,  0.,  0.,  4.,  0.],\n",
       "       [ 0.,  0.,  0.,  0.,  0.,  0.,  0.,  4.]])"
      ]
     },
     "execution_count": 7,
     "metadata": {},
     "output_type": "execute_result"
    }
   ],
   "source": [
    "# Arbitrary global Hamiltonian\n",
    "for i in range(0,N-1):\n",
    "    Hg = N*(1/2)*np.eye(N,N)\n",
    "H = EV_sorting(Hg)\n",
    "H"
   ]
  },
  {
   "cell_type": "markdown",
   "metadata": {},
   "source": [
    "From this, it would be enough to compute the Variance of these Hamiltonians using the different state functions from the quantum circuits described above. Qiskit's own \"StateFn\" function does the trick with the only caveat being that one must take into account normalization of the states. "
   ]
  },
  {
   "cell_type": "code",
   "execution_count": 8,
   "metadata": {
    "scrolled": true
   },
   "outputs": [],
   "source": [
    "# Quantum Fisher information estimation as per above equation\n",
    "\n",
    "GHZ = StateFn(GHZcircuit,1/np.sqrt(2),True)\n",
    "Prod = StateFn(Prodcircuit,1/np.sqrt(N),True)"
   ]
  },
  {
   "cell_type": "markdown",
   "metadata": {},
   "source": [
    "Results on real IBM devices can be shown to yield results similar to:"
   ]
  },
  {
   "cell_type": "code",
   "execution_count": 9,
   "metadata": {},
   "outputs": [],
   "source": [
    "from IPython.display import Image"
   ]
  },
  {
   "cell_type": "markdown",
   "metadata": {},
   "source": [
    "![QFI](pics/QFI.png)  \n",
    "  \n",
    "Where the plot in a) shows that as time progresses $Jt$ the state evolves and becomes entangled by virtue of $\\mathcal{ED}>1$. Conversely the state analyzed in b) shows no sign of entanglement as $\\mathcal{ED}<1$ for a particular time range after which it becomes entangled.  "
   ]
  },
  {
   "cell_type": "markdown",
   "metadata": {},
   "source": [
    "## Final remarks and sources\n",
    "Evolution/interaction times are also a factor to consider in future work as it will play a significant role in further quantum state characterization since as seen above, after a particular time, an initially non-entangled state may evolve to be entangled.  \n",
    "\n",
    "Additionally, further research and application of Qiskit's own tools for QFI estimation is in order to be able to test these theoretical proceedings on real quantum devices. Additionally, this might serve as a way to calibrate and/or characterize errors on real quantum devices since the extremal cases were thoroughly studied. "
   ]
  },
  {
   "cell_type": "markdown",
   "metadata": {},
   "source": [
    "[1] Ozaeta, Asier, and Peter L McMahon. “Decoherence of up to 8-Qubit Entangled States in a 16-Qubit Superconducting Quantum Processor.” Quantum Science and Technology 4.2 (2019): 025015. Crossref. Web.  \n",
    "[2] Suzuki, Yohichi et al. “Amplitude Estimation Without Phase Estimation.” Quantum Information Processing 19.2 (2020): n. pag. Crossref. Web.  \n",
    "[3] Smith, Adam et al. “Simulating Quantum Many-Body Dynamics on a Current Digital Quantum Computer.” npj Quantum Information 5.1 (2019): n. pag. Crossref. Web.\n",
    "[4] Sekatski, Pavel et al. “Quantum Information: Applications to Metrology and Communications.” University of Basel lecture (FS 2020)  \n",
    "[5] Wootton, James. “Quantum Information.” University of Basel lecture (FS 2020)  \n"
   ]
  },
  {
   "cell_type": "code",
   "execution_count": 10,
   "metadata": {},
   "outputs": [
    {
     "data": {
      "text/plain": [
       "{'qiskit-terra': '0.14.1',\n",
       " 'qiskit-aer': '0.5.1',\n",
       " 'qiskit-ignis': '0.3.0',\n",
       " 'qiskit-ibmq-provider': '0.7.1',\n",
       " 'qiskit-aqua': '0.7.1',\n",
       " 'qiskit': '0.19.2'}"
      ]
     },
     "execution_count": 10,
     "metadata": {},
     "output_type": "execute_result"
    }
   ],
   "source": [
    "import qiskit\n",
    "qiskit.__qiskit_version__"
   ]
  },
  {
   "cell_type": "code",
   "execution_count": null,
   "metadata": {},
   "outputs": [],
   "source": []
  }
 ],
 "metadata": {
  "kernelspec": {
   "display_name": "Python 3",
   "language": "python",
   "name": "python3"
  },
  "language_info": {
   "codemirror_mode": {
    "name": "ipython",
    "version": 3
   },
   "file_extension": ".py",
   "mimetype": "text/x-python",
   "name": "python",
   "nbconvert_exporter": "python",
   "pygments_lexer": "ipython3",
   "version": "3.8.3"
  }
 },
 "nbformat": 4,
 "nbformat_minor": 4
}

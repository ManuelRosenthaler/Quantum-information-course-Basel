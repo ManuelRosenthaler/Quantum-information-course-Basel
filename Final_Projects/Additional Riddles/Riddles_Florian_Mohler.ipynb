{
 "cells": [
  {
   "cell_type": "markdown",
   "metadata": {},
   "source": [
    "# Quantum Information: Project\n",
    "#### by Florian Mohler\n",
    "\n",
    "## Introduction\n",
    "As I first became aware of the idea of doing a project instead of having a classical exam, the thought of creating a little quantum game was very intriguing to me. I started playing around with the Pew Pew Emulator (with MicroQiskit) which seemed like a good idea to implement my game with. A little bit later I came to realize, however, that I do not know how to make use of the \"quantum\" part in a game without resorting to use it as a simple random number generator.\n",
    "\n",
    "For this reason I will now attempt to create some Qiskit riddles instead and try to implement a game some time later perhaps.\n",
    "\n",
    "The riddles will start quite simple while the difficulty level rises steadily.\n",
    "\n",
    "## Let's Go\n",
    "Please run the following cell to initialize the setup and the necessary imports.\n"
   ]
  },
  {
   "cell_type": "code",
   "execution_count": 2,
   "metadata": {},
   "outputs": [
    {
     "name": "stdout",
     "output_type": "stream",
     "text": [
      "Set up started...\n",
      "Set up completed.\n"
     ]
    }
   ],
   "source": [
    "%matplotlib inline\n",
    "print('Setup started...')\n",
    "# Importing standard Qiskit libraries and configuring account\n",
    "from qiskit import QuantumCircuit, execute, Aer, IBMQ\n",
    "from qiskit.compiler import transpile, assemble\n",
    "from qiskit.tools.jupyter import *\n",
    "from qiskit.visualization import *\n",
    "from qiskit_textbook.games import hello_quantum\n",
    "# Loading your IBM Q account(s)\n",
    "provider = IBMQ.load_account()\n",
    "print('Setup completed.')"
   ]
  },
  {
   "cell_type": "markdown",
   "metadata": {},
   "source": [
    "## Level 1\n",
    "Some easy riddles to get in the mood."
   ]
  },
  {
   "cell_type": "markdown",
   "metadata": {},
   "source": [
    "### Riddle 1.1\n",
    "Use the given gates to reach the end state which is displayed below the riddle."
   ]
  },
  {
   "cell_type": "code",
   "execution_count": null,
   "metadata": {},
   "outputs": [],
   "source": [
    "initialize = [['x', '0']]\n",
    "success_condition = {'IZ': -1.0, 'ZI': -1.0}\n",
    "allowed_gates = {'0': {'cx':0}, '1': {'cx':0}, 'both': {}}\n",
    "vi = [[], True, True]\n",
    "qubit_names = {'0':'qubit 0', '1':'qubit 1'}\n",
    "mode = None\n",
    "puzzle = hello_quantum.run_game(initialize, success_condition, allowed_gates, vi, qubit_names, mode=mode)\n",
    "\n",
    "message = '\\nEnd State\\n    Use exactly one cx gate.'\n",
    "grid = hello_quantum.pauli_grid(mode=mode)\n",
    "grid.update_grid(rho=success_condition, hidden=vi[0], qubit=vi[1], corr=vi[2], message=message)"
   ]
  },
  {
   "cell_type": "markdown",
   "metadata": {},
   "source": [
    "### Riddle 1.2\n",
    "Use the given gates to reach the end state which is displayed below the riddle."
   ]
  },
  {
   "cell_type": "code",
   "execution_count": null,
   "metadata": {},
   "outputs": [],
   "source": [
    "initialize = [['x', '0'], ['h', '0']]\n",
    "success_condition = {'IZ': -1.0, 'ZI': -1.0}\n",
    "allowed_gates = {'0': {'h':0, 'cx':0}, '1': {'h':0, 'cx':0}, 'both': {}}\n",
    "vi = [[], True, True]\n",
    "qubit_names = {'0':'qubit 0', '1':'qubit 1'}\n",
    "mode = None\n",
    "puzzle = hello_quantum.run_game(initialize, success_condition, allowed_gates, vi, qubit_names, mode=mode)\n",
    "\n",
    "message = '\\nEnd State'\n",
    "grid = hello_quantum.pauli_grid(mode=mode)\n",
    "grid.update_grid(rho=success_condition, hidden=vi[0], qubit=vi[1], corr=vi[2], message=message)"
   ]
  },
  {
   "cell_type": "markdown",
   "metadata": {},
   "source": [
    "### Riddle 1.3\n",
    "Use the given gates to reach the end state which is displayed below the riddle."
   ]
  },
  {
   "cell_type": "code",
   "execution_count": null,
   "metadata": {},
   "outputs": [],
   "source": [
    "initialize = [['x', '0'], ['h', '0'], ['h', '1']]\n",
    "success_condition = {'IZ': -1.0, 'ZI': -1.0}\n",
    "allowed_gates = {'0': {'h':0, 'z':0}, '1': {'h':0, 'z':0}, 'both': {}}\n",
    "vi = [[], True, True]\n",
    "qubit_names = {'0':'qubit 0', '1':'qubit 1'}\n",
    "mode = None\n",
    "puzzle = hello_quantum.run_game(initialize, success_condition, allowed_gates, vi, qubit_names, mode=mode)\n",
    "\n",
    "message = '\\nEnd State'\n",
    "grid = hello_quantum.pauli_grid(mode=mode)\n",
    "grid.update_grid(rho=success_condition, hidden=vi[0], qubit=vi[1], corr=vi[2], message=message)"
   ]
  },
  {
   "cell_type": "markdown",
   "metadata": {},
   "source": [
    "## Level 2\n",
    "Now that we are familiar again with the gates, let us up the complexity a bit."
   ]
  },
  {
   "cell_type": "markdown",
   "metadata": {},
   "source": [
    "### Riddle 2.1\n",
    "Use the given gates to reach the end state which is displayed below the riddle."
   ]
  },
  {
   "cell_type": "code",
   "execution_count": null,
   "metadata": {},
   "outputs": [],
   "source": [
    "initialize = [['x', '0'], ['h', '0']]\n",
    "success_condition = {'XI': -1.0, 'IX': -1.0}\n",
    "allowed_gates = {'0': {'h':0}, '1': {'h':0}, 'both': {'cz':0}}\n",
    "vi = [[], True, True]\n",
    "qubit_names = {'0':'qubit 0', '1':'qubit 1'}\n",
    "mode = None\n",
    "puzzle = hello_quantum.run_game(initialize, success_condition, allowed_gates, vi, qubit_names, mode=mode)\n",
    "\n",
    "message = '\\nEnd State'\n",
    "grid = hello_quantum.pauli_grid(mode=mode)\n",
    "grid.update_grid(rho=success_condition, hidden=vi[0], qubit=vi[1], corr=vi[2], message=message)"
   ]
  },
  {
   "cell_type": "markdown",
   "metadata": {},
   "source": [
    "### Riddle 2.2\n",
    "Use the given gates to reach the end state which is displayed below the riddle.\n",
    "Try to use no more than 2 steps."
   ]
  },
  {
   "cell_type": "code",
   "execution_count": null,
   "metadata": {},
   "outputs": [],
   "source": [
    "initialize = [['x', '0'], ['h', '0']]\n",
    "success_condition = {'ZI': 1.0, 'IX': -1.0}\n",
    "allowed_gates = {'0': {'cx':0, 'h':0}, '1': {'cx':0, 'h':0}, 'both': {}}\n",
    "vi = [[], True, True]\n",
    "qubit_names = {'0':'qubit 0', '1':'qubit 1'}\n",
    "mode = None\n",
    "puzzle = hello_quantum.run_game(initialize, success_condition, allowed_gates, vi, qubit_names, mode=mode)\n",
    "\n",
    "message = '\\nEnd State with 2 steps.'\n",
    "grid = hello_quantum.pauli_grid(mode=mode)\n",
    "grid.update_grid(rho=success_condition, hidden=vi[0], qubit=vi[1], corr=vi[2], message=message)"
   ]
  },
  {
   "cell_type": "markdown",
   "metadata": {},
   "source": [
    "### Riddle 2.3\n",
    "Use the given gates to reach the end state which is displayed below the riddle."
   ]
  },
  {
   "cell_type": "code",
   "execution_count": null,
   "metadata": {},
   "outputs": [],
   "source": [
    "initialize = []\n",
    "success_condition = {'XI': -1.0}\n",
    "allowed_gates = {'0': {'cx':0, 'h':0}, '1': {'cx':0, 'h':0, 'z':0}, 'both': {}}\n",
    "vi = [[], True, True]\n",
    "qubit_names = {'0':'qubit 0', '1':'qubit 1'}\n",
    "mode = None\n",
    "puzzle = hello_quantum.run_game(initialize, success_condition, allowed_gates, vi, qubit_names, mode=mode)\n",
    "\n",
    "message = '\\nEnd State'\n",
    "grid = hello_quantum.pauli_grid(mode=mode)\n",
    "grid.update_grid(rho=success_condition, hidden=vi[0], qubit=vi[1], corr=vi[2], message=message)"
   ]
  },
  {
   "cell_type": "markdown",
   "metadata": {},
   "source": [
    "## Level 3\n",
    "Some more riddles..."
   ]
  },
  {
   "cell_type": "markdown",
   "metadata": {},
   "source": [
    "### Riddle 3.1\n",
    "Use the given gates to reach the end state which is displayed below the riddle."
   ]
  },
  {
   "cell_type": "code",
   "execution_count": null,
   "metadata": {},
   "outputs": [],
   "source": [
    "initialize = [['x', '1'], ['h', '1']]\n",
    "success_condition = {'ZI': -1.0, 'IX': 1.0}\n",
    "allowed_gates = {'0': {'cx':0, 'h':0}, '1': {'cx':0, 'h':0}, 'both': {}}\n",
    "vi = [[], True, True]\n",
    "qubit_names = {'0':'qubit 0', '1':'qubit 1'}\n",
    "mode = None\n",
    "puzzle = hello_quantum.run_game(initialize, success_condition, allowed_gates, vi, qubit_names, mode=mode)\n",
    "\n",
    "message = '\\nEnd State'\n",
    "grid = hello_quantum.pauli_grid(mode=mode)\n",
    "grid.update_grid(rho=success_condition, hidden=vi[0], qubit=vi[1], corr=vi[2], message=message)"
   ]
  },
  {
   "cell_type": "markdown",
   "metadata": {},
   "source": [
    "### Riddle 3.2\n",
    "Use the given gates to reach the end state which is displayed below the riddle. Can you do it in 4 steps?"
   ]
  },
  {
   "cell_type": "code",
   "execution_count": null,
   "metadata": {},
   "outputs": [],
   "source": [
    "initialize = []\n",
    "success_condition = {'ZI': -1.0, 'IZ': -1.0}\n",
    "allowed_gates = {'0': {'cx':0, 'h':0}, '1': {'cx':0, 'h':0, 'ry(pi/4)':0}, 'both': {}}\n",
    "vi = [[], True, True]\n",
    "qubit_names = {'0':'qubit 0', '1':'qubit 1'}\n",
    "mode = None\n",
    "puzzle = hello_quantum.run_game(initialize, success_condition, allowed_gates, vi, qubit_names, mode=mode)\n",
    "\n",
    "message = '\\nEnd State'\n",
    "grid = hello_quantum.pauli_grid(mode=mode)\n",
    "grid.update_grid(rho=success_condition, hidden=vi[0], qubit=vi[1], corr=vi[2], message=message)"
   ]
  },
  {
   "cell_type": "markdown",
   "metadata": {},
   "source": [
    "### Riddle 3.3\n",
    "Use the given gates to reach the end state which is displayed below the riddle."
   ]
  },
  {
   "cell_type": "code",
   "execution_count": null,
   "metadata": {},
   "outputs": [],
   "source": [
    "initialize = [['x', '0']]\n",
    "success_condition = {'XI': 1.0, 'IZ': -1.0}\n",
    "allowed_gates = {'0': {'cx':0, 'h':0}, '1': {'h':0}, 'both': {'cz':0}}\n",
    "vi = [[], True, True]\n",
    "qubit_names = {'0':'qubit 0', '1':'qubit 1'}\n",
    "mode = None\n",
    "puzzle = hello_quantum.run_game(initialize, success_condition, allowed_gates, vi, qubit_names, mode=mode)\n",
    "\n",
    "message = '\\nEnd State\\nTry to use no more than 4 steps.'\n",
    "grid = hello_quantum.pauli_grid(mode=mode)\n",
    "grid.update_grid(rho=success_condition, hidden=vi[0], qubit=vi[1], corr=vi[2], message=message)"
   ]
  },
  {
   "cell_type": "markdown",
   "metadata": {},
   "source": [
    "### Riddle 3.4\n",
    "Use the given gates to reach the end state which is displayed below the riddle."
   ]
  },
  {
   "cell_type": "code",
   "execution_count": null,
   "metadata": {},
   "outputs": [],
   "source": [
    "initialize = [['h','0'], ['x','1']]\n",
    "success_condition = {'ZI': 1.0}\n",
    "allowed_gates = {'0': {'bloch':0, 'cx':0, 'ry(pi/4)': 1, 'ry(-pi/4)': 1}, '1': {}, 'both': {'unbloch':0}}\n",
    "vi = [[], True, True]\n",
    "qubit_names = {'0':'qubit 0', '1':'qubit 1'}\n",
    "mode = 'line'\n",
    "puzzle = hello_quantum.run_game(initialize, success_condition, allowed_gates, vi, qubit_names, mode=mode)\n",
    "\n",
    "message = '\\nEnd State\\nTry to use no more than 4 steps.'\n",
    "grid = hello_quantum.pauli_grid(mode=None)\n",
    "grid.update_grid(rho=success_condition, hidden=vi[0], qubit=vi[1], corr=vi[2], message=message)"
   ]
  },
  {
   "cell_type": "markdown",
   "metadata": {},
   "source": [
    "### Riddle 3.5\n",
    "Use the given gates to reach the end state which is displayed below the riddle."
   ]
  },
  {
   "cell_type": "code",
   "execution_count": 5,
   "metadata": {},
   "outputs": [
    {
     "data": {
      "application/vnd.jupyter.widget-view+json": {
       "model_id": "114a3d10840b4b9dad3a0490fb3039ac",
       "version_major": 2,
       "version_minor": 0
      },
      "text/plain": [
       "Image(value=b'\\x89PNG\\r\\n\\x1a\\n\\x00\\x00\\x00\\rIHDR\\x00\\x00\\x01\\xb0\\x00\\x00\\x01\\xb0\\x08\\x06\\x00\\x00\\x00\\xc8N0*\\x…"
      ]
     },
     "metadata": {},
     "output_type": "display_data"
    },
    {
     "data": {
      "application/vnd.jupyter.widget-view+json": {
       "model_id": "8f70bdf6e977459a810ab5001c639853",
       "version_major": 2,
       "version_minor": 0
      },
      "text/plain": [
       "VBox(children=(ToggleButtons(options=('Choose gate', 'cz', 'ry(-pi/4)'), value='Choose gate'), ToggleButtons(o…"
      ]
     },
     "metadata": {},
     "output_type": "display_data"
    },
    {
     "data": {
      "image/png": "[encoded data removed]",
      "text/plain": [
       "<Figure size 432x432 with 1 Axes>"
      ]
     },
     "metadata": {},
     "output_type": "display_data"
    }
   ],
   "source": [
    "initialize = [['x','0']]\n",
    "success_condition = {'XI': 1.0, 'IX': 1.0}\n",
    "allowed_gates = {'0': {'ry(-pi/4)': 2}, '1': {'ry(-pi/4)': 2}, 'both': {'cz':1}}\n",
    "vi = [[], True, True]\n",
    "qubit_names = {'0':'qubit 0', '1':'qubit 1'}\n",
    "mode = 'line'\n",
    "puzzle = hello_quantum.run_game(initialize, success_condition, allowed_gates, vi, qubit_names, mode=mode)\n",
    "\n",
    "message = '\\nEnd State\\nTry to use no more than 4 steps.'\n",
    "grid = hello_quantum.pauli_grid(mode=None)\n",
    "grid.update_grid(rho=success_condition, hidden=vi[0], qubit=vi[1], corr=vi[2], message=message)"
   ]
  },
  {
   "cell_type": "markdown",
   "metadata": {},
   "source": [
    "## Outro\n",
    "The riddles above were made by hand, but in form of a bigger project with more time it should be possible to generate them automatically. I am thinking of randomly selecting gates and applying some of them to generate a success condition. Ideally, the number of gates that were used during generation is displayed for the player as the optimal number of steps to reach the end state. Maybe the game could even be expanded with more qubits, although it might be challenging to keep a clearly arranged layout.\n",
    "\n",
    "Doing this little project this has helped me to understand the fundamentals of the interaction between the individual qubits a lot better, especially with the `ry` gate and the `'line'` mode. And even for people who know nothing about quantum computing these puzzles are an elegant and simple way to get a first contact with the basics of quantum information."
   ]
  },
  {
   "cell_type": "code",
   "execution_count": null,
   "metadata": {},
   "outputs": [],
   "source": []
  }
 ],
 "metadata": {
  "kernelspec": {
   "display_name": "Python 3",
   "language": "python",
   "name": "python3"
  },
  "language_info": {
   "codemirror_mode": {
    "name": "ipython",
    "version": 3
   },
   "file_extension": ".py",
   "mimetype": "text/x-python",
   "name": "python",
   "nbconvert_exporter": "python",
   "pygments_lexer": "ipython3",
   "version": "3.7.6"
  }
 },
 "nbformat": 4,
 "nbformat_minor": 4
}
